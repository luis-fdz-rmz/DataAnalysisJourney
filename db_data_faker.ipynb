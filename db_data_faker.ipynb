{
 "cells": [
  {
   "cell_type": "code",
   "execution_count": 345,
   "id": "94dbf062",
   "metadata": {},
   "outputs": [
    {
     "name": "stdout",
     "output_type": "stream",
     "text": [
      "Morgan Ferguson\n"
     ]
    }
   ],
   "source": [
    "import faker\n",
    "import numpy as np\n",
    "import requests\n",
    "import json\n",
    "import pprint\n",
    "from flask import jsonify\n",
    "from datetime import datetime, timedelta\n",
    "\n",
    "fakergen = faker.Faker()\n",
    "print(fakergen.name())"
   ]
  },
  {
   "cell_type": "code",
   "execution_count": 32,
   "id": "0132f2a1",
   "metadata": {},
   "outputs": [],
   "source": [
    "response = requests.get('http://127.0.0.1:5000/api/students')\n",
    "response = response.json()"
   ]
  },
  {
   "cell_type": "code",
   "execution_count": null,
   "id": "fe9e1e41",
   "metadata": {},
   "outputs": [],
   "source": [
    "for _ in range(100):\n",
    "    studentData = {\n",
    "        'age' : np.random.randint(14,18), \n",
    "        'extra_activities' : [True,False][np.random.randint(0,2)], \n",
    "        'gender' :  ['M','F'][gender := np.random.randint(0,2)], \n",
    "        'grade_level' : np.random.randint(9,13), \n",
    "        'internet_access': [True,False][np.random.randint(0,2)], \n",
    "        'lunch_type' : [\"Free or Reduced\",\"Standard\"][np.random.randint(0,2)], \n",
    "        'parent_education' : ['High School', \"Bachelor's\",\"Master's\", \"PhD\"][np.random.randint(0,3)], \n",
    "        'student_name' : fakergen.name_male() if gender == 0 else fakergen.name_female()\n",
    "    }\n",
    "\n",
    "\n",
    "    postResponse = requests.post(\"http://127.0.0.1:5000/api/students\", json=studentData)\n",
    "    if not postResponse.ok:\n",
    "        print(\"ERROR\")\n",
    "\n",
    "for i in range(100):\n",
    "    date_assigned = fakergen.date_between_dates(date_start=datetime(2024,8,16),\n",
    "                                    date_end=datetime(2024,12,14))\n",
    "    deadline = date_assigned + timedelta(np.random.randint(5,14))\n",
    "    date_submited = fakergen.date_between_dates(date_assigned, deadline)\n",
    "\n",
    "    postResponse = requests.get('http://127.0.0.1:5000/api/grades').json()\n",
    "    for student_id in map(lambda x: x.get('student_id'), postResponse['message']):\n",
    "        gradeData = {\n",
    "            'student_id': student_id,\n",
    "            'grade_subject': ['MATH','READING', 'WRITING'][np.random.randint(0,3)],\n",
    "            'grade_task' : fakergen.bs(), \n",
    "            'grade_type' :['Assignment', 'Quiz', 'Exam', 'Project', 'Attendance'][np.random.randint(0,5)], \n",
    "            'grade' : min(np.random.uniform(40,120),100), \n",
    "            'date_assigned' : date_assigned, \n",
    "            'deadline' : deadline, \n",
    "            'date_submitted': date_submited\n",
    "        }\n",
    "        postResponse = requests.post(\"http://127.0.0.1:5000/api/grades\", json=studentData)\n",
    "        if not postResponse.ok:\n",
    "            print(\"ERROR\")\n"
   ]
  },
  {
   "cell_type": "code",
   "execution_count": null,
   "id": "e235fe66",
   "metadata": {},
   "outputs": [],
   "source": []
  },
  {
   "cell_type": "code",
   "execution_count": 268,
   "id": "83a8d395",
   "metadata": {},
   "outputs": [
    {
     "data": {
      "image/svg+xml": [
       "<svg xmlns=\"http://www.w3.org/2000/svg\" xmlns:ev=\"http://www.w3.org/2001/xml-events\" xmlns:xlink=\"http://www.w3.org/1999/xlink\" baseProfile=\"full\" height=\"300px\" version=\"1.1\" width=\"300px\"><defs/><rect fill=\"rgb(107,133,159)\" height=\"101%\" width=\"101%\" x=\"0\" y=\"0\"/><text dominant-baseline=\"middle\" fill=\"rgb(40,40,40)\" font-family=\"Courier New\" font-size=\"100\" font-weight=\"600\" text-anchor=\"middle\" x=\"50%\" y=\"50%\">AB</text></svg>"
      ],
      "text/plain": [
       "<IPython.core.display.SVG object>"
      ]
     },
     "metadata": {},
     "output_type": "display_data"
    },
    {
     "data": {
      "image/svg+xml": [
       "<svg xmlns=\"http://www.w3.org/2000/svg\" xmlns:ev=\"http://www.w3.org/2001/xml-events\" xmlns:xlink=\"http://www.w3.org/1999/xlink\" baseProfile=\"full\" height=\"300px\" version=\"1.1\" width=\"300px\"><defs/><rect fill=\"rgb(134,122,176)\" height=\"101%\" width=\"101%\" x=\"0\" y=\"0\"/><text dominant-baseline=\"middle\" fill=\"rgb(40,40,40)\" font-family=\"Courier New\" font-size=\"100\" font-weight=\"600\" text-anchor=\"middle\" x=\"50%\" y=\"50%\">CD</text></svg>"
      ],
      "text/plain": [
       "<IPython.core.display.SVG object>"
      ]
     },
     "metadata": {},
     "output_type": "display_data"
    },
    {
     "data": {
      "image/svg+xml": [
       "<svg xmlns=\"http://www.w3.org/2000/svg\" xmlns:ev=\"http://www.w3.org/2001/xml-events\" xmlns:xlink=\"http://www.w3.org/1999/xlink\" baseProfile=\"full\" height=\"300px\" version=\"1.1\" width=\"300px\"><defs/><rect fill=\"rgb(126,151,151)\" height=\"101%\" width=\"101%\" x=\"0\" y=\"0\"/><text dominant-baseline=\"middle\" fill=\"rgb(40,40,40)\" font-family=\"Courier New\" font-size=\"100\" font-weight=\"600\" text-anchor=\"middle\" x=\"50%\" y=\"50%\">EF</text></svg>"
      ],
      "text/plain": [
       "<IPython.core.display.SVG object>"
      ]
     },
     "metadata": {},
     "output_type": "display_data"
    },
    {
     "data": {
      "image/svg+xml": [
       "<svg xmlns=\"http://www.w3.org/2000/svg\" xmlns:ev=\"http://www.w3.org/2001/xml-events\" xmlns:xlink=\"http://www.w3.org/1999/xlink\" baseProfile=\"full\" height=\"300px\" version=\"1.1\" width=\"300px\"><defs/><rect fill=\"rgb(132,179,127)\" height=\"101%\" width=\"101%\" x=\"0\" y=\"0\"/><text dominant-baseline=\"middle\" fill=\"rgb(40,40,40)\" font-family=\"Courier New\" font-size=\"100\" font-weight=\"600\" text-anchor=\"middle\" x=\"50%\" y=\"50%\">GH</text></svg>"
      ],
      "text/plain": [
       "<IPython.core.display.SVG object>"
      ]
     },
     "metadata": {},
     "output_type": "display_data"
    },
    {
     "data": {
      "image/svg+xml": [
       "<svg xmlns=\"http://www.w3.org/2000/svg\" xmlns:ev=\"http://www.w3.org/2001/xml-events\" xmlns:xlink=\"http://www.w3.org/1999/xlink\" baseProfile=\"full\" height=\"300px\" version=\"1.1\" width=\"300px\"><defs/><rect fill=\"rgb(105,135,182)\" height=\"101%\" width=\"101%\" x=\"0\" y=\"0\"/><text dominant-baseline=\"middle\" fill=\"rgb(40,40,40)\" font-family=\"Courier New\" font-size=\"100\" font-weight=\"600\" text-anchor=\"middle\" x=\"50%\" y=\"50%\">IJ</text></svg>"
      ],
      "text/plain": [
       "<IPython.core.display.SVG object>"
      ]
     },
     "metadata": {},
     "output_type": "display_data"
    },
    {
     "data": {
      "image/svg+xml": [
       "<svg xmlns=\"http://www.w3.org/2000/svg\" xmlns:ev=\"http://www.w3.org/2001/xml-events\" xmlns:xlink=\"http://www.w3.org/1999/xlink\" baseProfile=\"full\" height=\"300px\" version=\"1.1\" width=\"300px\"><defs/><rect fill=\"rgb(100,182,182)\" height=\"101%\" width=\"101%\" x=\"0\" y=\"0\"/><text dominant-baseline=\"middle\" fill=\"rgb(40,40,40)\" font-family=\"Courier New\" font-size=\"100\" font-weight=\"600\" text-anchor=\"middle\" x=\"50%\" y=\"50%\">KL</text></svg>"
      ],
      "text/plain": [
       "<IPython.core.display.SVG object>"
      ]
     },
     "metadata": {},
     "output_type": "display_data"
    },
    {
     "data": {
      "image/svg+xml": [
       "<svg xmlns=\"http://www.w3.org/2000/svg\" xmlns:ev=\"http://www.w3.org/2001/xml-events\" xmlns:xlink=\"http://www.w3.org/1999/xlink\" baseProfile=\"full\" height=\"300px\" version=\"1.1\" width=\"300px\"><defs/><rect fill=\"rgb(189,136,132)\" height=\"101%\" width=\"101%\" x=\"0\" y=\"0\"/><text dominant-baseline=\"middle\" fill=\"rgb(40,40,40)\" font-family=\"Courier New\" font-size=\"100\" font-weight=\"600\" text-anchor=\"middle\" x=\"50%\" y=\"50%\">MN</text></svg>"
      ],
      "text/plain": [
       "<IPython.core.display.SVG object>"
      ]
     },
     "metadata": {},
     "output_type": "display_data"
    },
    {
     "data": {
      "image/svg+xml": [
       "<svg xmlns=\"http://www.w3.org/2000/svg\" xmlns:ev=\"http://www.w3.org/2001/xml-events\" xmlns:xlink=\"http://www.w3.org/1999/xlink\" baseProfile=\"full\" height=\"300px\" version=\"1.1\" width=\"300px\"><defs/><rect fill=\"rgb(151,131,131)\" height=\"101%\" width=\"101%\" x=\"0\" y=\"0\"/><text dominant-baseline=\"middle\" fill=\"rgb(40,40,40)\" font-family=\"Courier New\" font-size=\"100\" font-weight=\"600\" text-anchor=\"middle\" x=\"50%\" y=\"50%\">OP</text></svg>"
      ],
      "text/plain": [
       "<IPython.core.display.SVG object>"
      ]
     },
     "metadata": {},
     "output_type": "display_data"
    },
    {
     "data": {
      "image/svg+xml": [
       "<svg xmlns=\"http://www.w3.org/2000/svg\" xmlns:ev=\"http://www.w3.org/2001/xml-events\" xmlns:xlink=\"http://www.w3.org/1999/xlink\" baseProfile=\"full\" height=\"300px\" version=\"1.1\" width=\"300px\"><defs/><rect fill=\"rgb(197,121,118)\" height=\"101%\" width=\"101%\" x=\"0\" y=\"0\"/><text dominant-baseline=\"middle\" fill=\"rgb(40,40,40)\" font-family=\"Courier New\" font-size=\"100\" font-weight=\"600\" text-anchor=\"middle\" x=\"50%\" y=\"50%\">QR</text></svg>"
      ],
      "text/plain": [
       "<IPython.core.display.SVG object>"
      ]
     },
     "metadata": {},
     "output_type": "display_data"
    },
    {
     "data": {
      "image/svg+xml": [
       "<svg xmlns=\"http://www.w3.org/2000/svg\" xmlns:ev=\"http://www.w3.org/2001/xml-events\" xmlns:xlink=\"http://www.w3.org/1999/xlink\" baseProfile=\"full\" height=\"300px\" version=\"1.1\" width=\"300px\"><defs/><rect fill=\"rgb(194,176,123)\" height=\"101%\" width=\"101%\" x=\"0\" y=\"0\"/><text dominant-baseline=\"middle\" fill=\"rgb(40,40,40)\" font-family=\"Courier New\" font-size=\"100\" font-weight=\"600\" text-anchor=\"middle\" x=\"50%\" y=\"50%\">ST</text></svg>"
      ],
      "text/plain": [
       "<IPython.core.display.SVG object>"
      ]
     },
     "metadata": {},
     "output_type": "display_data"
    },
    {
     "data": {
      "image/svg+xml": [
       "<svg xmlns=\"http://www.w3.org/2000/svg\" xmlns:ev=\"http://www.w3.org/2001/xml-events\" xmlns:xlink=\"http://www.w3.org/1999/xlink\" baseProfile=\"full\" height=\"300px\" version=\"1.1\" width=\"300px\"><defs/><rect fill=\"rgb(175,184,142)\" height=\"101%\" width=\"101%\" x=\"0\" y=\"0\"/><text dominant-baseline=\"middle\" fill=\"rgb(40,40,40)\" font-family=\"Courier New\" font-size=\"100\" font-weight=\"600\" text-anchor=\"middle\" x=\"50%\" y=\"50%\">UV</text></svg>"
      ],
      "text/plain": [
       "<IPython.core.display.SVG object>"
      ]
     },
     "metadata": {},
     "output_type": "display_data"
    },
    {
     "data": {
      "image/svg+xml": [
       "<svg xmlns=\"http://www.w3.org/2000/svg\" xmlns:ev=\"http://www.w3.org/2001/xml-events\" xmlns:xlink=\"http://www.w3.org/1999/xlink\" baseProfile=\"full\" height=\"300px\" version=\"1.1\" width=\"300px\"><defs/><rect fill=\"rgb(144,179,163)\" height=\"101%\" width=\"101%\" x=\"0\" y=\"0\"/><text dominant-baseline=\"middle\" fill=\"rgb(40,40,40)\" font-family=\"Courier New\" font-size=\"100\" font-weight=\"600\" text-anchor=\"middle\" x=\"50%\" y=\"50%\">WX</text></svg>"
      ],
      "text/plain": [
       "<IPython.core.display.SVG object>"
      ]
     },
     "metadata": {},
     "output_type": "display_data"
    },
    {
     "data": {
      "image/svg+xml": [
       "<svg xmlns=\"http://www.w3.org/2000/svg\" xmlns:ev=\"http://www.w3.org/2001/xml-events\" xmlns:xlink=\"http://www.w3.org/1999/xlink\" baseProfile=\"full\" height=\"300px\" version=\"1.1\" width=\"300px\"><defs/><rect fill=\"rgb(126,121,158)\" height=\"101%\" width=\"101%\" x=\"0\" y=\"0\"/><text dominant-baseline=\"middle\" fill=\"rgb(40,40,40)\" font-family=\"Courier New\" font-size=\"100\" font-weight=\"600\" text-anchor=\"middle\" x=\"50%\" y=\"50%\">YZ</text></svg>"
      ],
      "text/plain": [
       "<IPython.core.display.SVG object>"
      ]
     },
     "metadata": {},
     "output_type": "display_data"
    }
   ],
   "source": [
    "import svgwrite\n",
    "from IPython.display import SVG, display\n",
    "import io\n",
    "import matplotlib.pyplot as plt\n",
    "import numpy as np\n",
    "\n",
    "def generate_svg_picture(text):\n",
    "    length = 300\n",
    "    dwg = svgwrite.Drawing('centered_text.svg', size=(f'{length}px', f'{length}px'))\n",
    "\n",
    "    # Set background color\n",
    "    background_color = f'rgb({np.random.randint(100,200)},{np.random.randint(100,200)},{np.random.randint(100,200)})'\n",
    "    dwg.add(dwg.rect(insert=(0, 0), size=('101%', '101%'), fill=background_color))\n",
    "\n",
    "    # Add centered text\n",
    "    font_size = length//3\n",
    "\n",
    "\n",
    "    dwg.add(dwg.text(text, insert=('50%', '50%'), fill='rgb(40,40,40)', \n",
    "                     font_size=font_size,font_family='Courier New',\n",
    "                     font_weight='600', text_anchor=\"middle\",\n",
    "                    dominant_baseline=\"middle\"))\n",
    "\n",
    "    # dwg.save()\n",
    "\n",
    "    # Save to a string buffer\n",
    "    svg_buffer = io.StringIO()\n",
    "    dwg.write(svg_buffer)\n",
    "    svg_data = svg_buffer.getvalue()\n",
    "    # print(svg_data)\n",
    "\n",
    "    # Display in notebook\n",
    "    display(SVG(data=svg_data))\n",
    "    return svg_data\n",
    "\n",
    "\n",
    "alphabet = str.upper('abcdefghijklmnopqrstuvwxyz')\n",
    "# generate_svg_picture(\"LF\")\n",
    "for i in range(13):\n",
    "    generate_svg_picture(f\"{alphabet[2*i]}{alphabet[2*(i)+1]}\")\n",
    "\n",
    "# generate_svg_picture(\"LF\")"
   ]
  },
  {
   "cell_type": "code",
   "execution_count": 331,
   "id": "e7a38b56",
   "metadata": {},
   "outputs": [
    {
     "data": {
      "image/svg+xml": [
       "<svg xmlns=\"http://www.w3.org/2000/svg\" xmlns:ev=\"http://www.w3.org/2001/xml-events\" xmlns:xlink=\"http://www.w3.org/1999/xlink\" baseProfile=\"full\" height=\"300px\" version=\"1.1\" width=\"300px\"><defs/><circle cx=\"50%\" cy=\"50%\" fill=\"rgb(135,156,148)\" r=\"50%\"/><text dominant-baseline=\"middle\" fill=\"rgb(40,40,40)\" font-family=\"Courier New\" font-size=\"100\" font-weight=\"600\" text-anchor=\"middle\" x=\"50%\" y=\"50%\">LF</text></svg>"
      ],
      "text/plain": [
       "<IPython.core.display.SVG object>"
      ]
     },
     "metadata": {},
     "output_type": "display_data"
    },
    {
     "data": {
      "text/plain": [
       "'<?xml version=\"1.0\" encoding=\"utf-8\" ?>\\n<svg baseProfile=\"full\" height=\"300px\" version=\"1.1\" width=\"300px\" xmlns=\"http://www.w3.org/2000/svg\" xmlns:ev=\"http://www.w3.org/2001/xml-events\" xmlns:xlink=\"http://www.w3.org/1999/xlink\"><defs /><circle cx=\"50%\" cy=\"50%\" fill=\"rgb(135,156,148)\" r=\"50%\" /><text dominant-baseline=\"middle\" fill=\"rgb(40,40,40)\" font-family=\"Courier New\" font-size=\"100\" font-weight=\"600\" text-anchor=\"middle\" x=\"50%\" y=\"50%\">LF</text></svg>'"
      ]
     },
     "execution_count": 331,
     "metadata": {},
     "output_type": "execute_result"
    }
   ],
   "source": [
    "def generate_svg_picture(text):\n",
    "    length = 300\n",
    "    dwg = svgwrite.Drawing('centered_text.svg', size=(f'{length}px', f'{length}px'))\n",
    "\n",
    "    # Set background color\n",
    "    background_color = f'rgb({np.random.randint(100,200)},{np.random.randint(100,200)},{np.random.randint(100,200)})'\n",
    "    dwg.add(dwg.circle(center=('50%', '50%'), r='50%', fill=background_color))\n",
    "\n",
    "    # Add centered text\n",
    "    font_size = length//3\n",
    "\n",
    "\n",
    "    dwg.add(dwg.text(text, insert=('50%', '50%'), fill='rgb(40,40,40)', \n",
    "                     font_size=font_size,font_family='Courier New',\n",
    "                     font_weight='600', text_anchor=\"middle\",\n",
    "                    dominant_baseline=\"middle\"))\n",
    "\n",
    "    # dwg.save()\n",
    "\n",
    "    # Save to a string buffer\n",
    "    svg_buffer = io.StringIO()\n",
    "    dwg.write(svg_buffer)\n",
    "    svg_data = svg_buffer.getvalue()\n",
    "    # print(svg_data)\n",
    "\n",
    "    # Display in notebook\n",
    "    display(SVG(data=svg_data))\n",
    "    return svg_data\n",
    "\n",
    "generate_svg_picture(\"LF\")\n"
   ]
  }
 ],
 "metadata": {
  "kernelspec": {
   "display_name": "MLAI",
   "language": "python",
   "name": "python3"
  },
  "language_info": {
   "codemirror_mode": {
    "name": "ipython",
    "version": 3
   },
   "file_extension": ".py",
   "mimetype": "text/x-python",
   "name": "python",
   "nbconvert_exporter": "python",
   "pygments_lexer": "ipython3",
   "version": "3.12.9"
  }
 },
 "nbformat": 4,
 "nbformat_minor": 5
}

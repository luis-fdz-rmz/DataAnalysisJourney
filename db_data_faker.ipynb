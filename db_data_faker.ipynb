{
 "cells": [
  {
   "cell_type": "code",
   "execution_count": 345,
   "id": "94dbf062",
   "metadata": {},
   "outputs": [
    {
     "name": "stdout",
     "output_type": "stream",
     "text": [
      "Morgan Ferguson\n"
     ]
    }
   ],
   "source": [
    "import faker\n",
    "import numpy as np\n",
    "import requests\n",
    "import json\n",
    "import pprint\n",
    "from flask import jsonify\n",
    "from datetime import datetime, timedelta\n",
    "\n",
    "fakergen = faker.Faker()\n",
    "print(fakergen.name())"
   ]
  },
  {
   "cell_type": "code",
   "execution_count": 32,
   "id": "0132f2a1",
   "metadata": {},
   "outputs": [],
   "source": [
    "response = requests.get('http://127.0.0.1:5000/api/students')\n",
    "response = response.json()"
   ]
  },
  {
   "cell_type": "code",
   "execution_count": null,
   "id": "fe9e1e41",
   "metadata": {},
   "outputs": [],
   "source": [
    "for _ in range(100):\n",
    "    studentData = {\n",
    "        'age' : np.random.randint(14,18), \n",
    "        'extra_activities' : [True,False][np.random.randint(0,2)], \n",
    "        'gender' :  ['M','F'][gender := np.random.randint(0,2)], \n",
    "        'grade_level' : np.random.randint(9,13), \n",
    "        'internet_access': [True,False][np.random.randint(0,2)], \n",
    "        'lunch_type' : [\"Free or Reduced\",\"Standard\"][np.random.randint(0,2)], \n",
    "        'parent_education' : ['High School', \"Bachelor's\",\"Master's\", \"PhD\"][np.random.randint(0,3)], \n",
    "        'student_name' : fakergen.name_male() if gender == 0 else fakergen.name_female()\n",
    "    }\n",
    "\n",
    "\n",
    "    postResponse = requests.post(\"http://127.0.0.1:5000/api/students\", json=studentData)\n",
    "    if not postResponse.ok:\n",
    "        print(\"ERROR\")\n",
    "\n",
    "for i in range(100):\n",
    "    date_assigned = fakergen.date_between_dates(date_start=datetime(2024,8,16),\n",
    "                                    date_end=datetime(2024,12,14))\n",
    "    deadline = date_assigned + timedelta(np.random.randint(5,14))\n",
    "    date_submited = fakergen.date_between_dates(date_assigned, deadline)\n",
    "\n",
    "    postResponse = requests.get('http://127.0.0.1:5000/api/students').json()\n",
    "    for student_id in map(lambda x: x.get('student_id'), postResponse['message']):\n",
    "        gradeData = {\n",
    "            'student_id': student_id,\n",
    "            'grade_subject': ['MATH','READING', 'WRITING'][np.random.randint(0,3)],\n",
    "            'grade_task' : fakergen.bs(), \n",
    "            'grade_type' :['Assignment', 'Quiz', 'Exam', 'Project', 'Attendance'][np.random.randint(0,5)], \n",
    "            'grade' : min(np.random.uniform(40,120),100), \n",
    "            'date_assigned' : date_assigned, \n",
    "            'deadline' : deadline, \n",
    "            'date_submitted': date_submited\n",
    "        }\n",
    "        postResponse = requests.post(\"http://127.0.0.1:5000/api/grades\", json=studentData)\n",
    "        if not postResponse.ok:\n",
    "            print(\"ERROR\")\n"
   ]
  },
  {
   "cell_type": "code",
   "execution_count": null,
   "id": "e235fe66",
   "metadata": {},
   "outputs": [
    {
     "name": "stdout",
     "output_type": "stream",
     "text": [
      "1\n"
     ]
    }
   ],
   "source": []
  },
  {
   "cell_type": "code",
   "execution_count": 355,
   "id": "83a8d395",
   "metadata": {},
   "outputs": [
    {
     "name": "stdout",
     "output_type": "stream",
     "text": [
      "1\n",
      "2\n",
      "3\n",
      "4\n",
      "5\n",
      "6\n",
      "7\n",
      "8\n",
      "9\n",
      "10\n",
      "11\n",
      "12\n",
      "13\n",
      "14\n",
      "15\n",
      "16\n",
      "17\n",
      "18\n",
      "19\n",
      "20\n",
      "21\n",
      "22\n",
      "23\n",
      "24\n",
      "25\n",
      "26\n",
      "27\n",
      "28\n",
      "29\n",
      "30\n",
      "31\n",
      "32\n",
      "33\n",
      "34\n",
      "35\n",
      "36\n",
      "37\n",
      "38\n",
      "39\n",
      "40\n",
      "41\n",
      "42\n",
      "43\n",
      "44\n",
      "45\n",
      "46\n",
      "47\n",
      "48\n",
      "49\n",
      "50\n",
      "51\n",
      "52\n",
      "53\n",
      "54\n",
      "55\n",
      "56\n",
      "57\n",
      "58\n",
      "59\n",
      "60\n",
      "61\n",
      "62\n",
      "63\n",
      "64\n",
      "65\n",
      "66\n",
      "67\n",
      "68\n",
      "69\n",
      "70\n",
      "71\n",
      "72\n",
      "73\n",
      "74\n",
      "75\n",
      "76\n",
      "77\n",
      "78\n",
      "79\n",
      "80\n",
      "81\n",
      "82\n",
      "83\n",
      "84\n",
      "85\n",
      "86\n",
      "87\n",
      "88\n",
      "89\n",
      "90\n",
      "91\n",
      "92\n",
      "93\n",
      "94\n",
      "95\n",
      "96\n",
      "97\n",
      "98\n",
      "99\n",
      "100\n",
      "101\n"
     ]
    }
   ],
   "source": [
    "for student in map(lambda x: x.get('student_id'), postResponse['message']):\n",
    "    print(student)"
   ]
  }
 ],
 "metadata": {
  "kernelspec": {
   "display_name": "MLAI",
   "language": "python",
   "name": "python3"
  },
  "language_info": {
   "codemirror_mode": {
    "name": "ipython",
    "version": 3
   },
   "file_extension": ".py",
   "mimetype": "text/x-python",
   "name": "python",
   "nbconvert_exporter": "python",
   "pygments_lexer": "ipython3",
   "version": "3.12.9"
  }
 },
 "nbformat": 4,
 "nbformat_minor": 5
}
